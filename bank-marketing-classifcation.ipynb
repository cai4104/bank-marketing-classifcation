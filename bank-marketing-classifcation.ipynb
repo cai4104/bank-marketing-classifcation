{
 "cells": [
  {
   "cell_type": "markdown",
   "metadata": {},
   "source": [
    "# Bank Marketing Classification"
   ]
  },
  {
   "cell_type": "markdown",
   "metadata": {},
   "source": [
    "## Data Collection/Preprocessing"
   ]
  },
  {
   "cell_type": "markdown",
   "metadata": {},
   "source": [
    "Person A\n",
    "- Load data\n",
    "- Feature analysis (check for imbalanced data, heatmap feature correlation, etc.)\n",
    "\n",
    "Person B\n",
    "- Feature engineering (feature scaling, normalization, standardization, one hot encode features/targets, check for missing values)\n",
    "- Train test validation split"
   ]
  },
  {
   "cell_type": "code",
   "execution_count": null,
   "metadata": {},
   "outputs": [],
   "source": [
    "# import the dataset -- can use pip install\n",
    "\n",
    "# pip install ucimlrepo\n",
    "# from ucimlrepo import fetch_ucirepo \n",
    "  \n",
    "# # fetch dataset \n",
    "# bank_marketing = fetch_ucirepo(id=222) \n",
    "  \n",
    "# # data (as pandas dataframes) \n",
    "# X = bank_marketing.data.features \n",
    "# y = bank_marketing.data.targets \n",
    "  \n",
    "# # metadata \n",
    "# print(bank_marketing.metadata) \n",
    "  \n",
    "# # variable information \n",
    "# print(bank_marketing.variables) "
   ]
  },
  {
   "cell_type": "markdown",
   "metadata": {},
   "source": [
    "## Baselines"
   ]
  },
  {
   "cell_type": "markdown",
   "metadata": {},
   "source": [
    "Person C\n",
    "- Logistic regression\n",
    "\n",
    "Person D\n",
    "\n",
    "- Random guessing"
   ]
  },
  {
   "cell_type": "markdown",
   "metadata": {},
   "source": [
    "## Training Model"
   ]
  },
  {
   "cell_type": "markdown",
   "metadata": {},
   "source": [
    "Options:\n",
    "\n",
    "Person C\n",
    "- Ensemble (random forest, xg boost)\n",
    "\n",
    "Person D\n",
    "- Simple neural network"
   ]
  },
  {
   "cell_type": "markdown",
   "metadata": {},
   "source": [
    "## Evaluating Model"
   ]
  },
  {
   "cell_type": "markdown",
   "metadata": {},
   "source": [
    "Person E\n",
    "- Metric 1: F1 Score\n",
    "- Metric 2: Area Under Receiver Operating Characteristics Curve (ROC)\n",
    "- Also responsible for conclusion in report"
   ]
  },
  {
   "cell_type": "markdown",
   "metadata": {},
   "source": []
  }
 ],
 "metadata": {
  "language_info": {
   "name": "python"
  }
 },
 "nbformat": 4,
 "nbformat_minor": 2
}
